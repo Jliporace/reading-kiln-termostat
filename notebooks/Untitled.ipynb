{
 "cells": [
  {
   "cell_type": "code",
   "execution_count": 1,
   "id": "cdcf12a2",
   "metadata": {},
   "outputs": [],
   "source": [
    "import sys\n",
    "sys.path.append(\"..\")\n",
    "from src import InputReader\n",
    "import pathlib\n"
   ]
  },
  {
   "cell_type": "code",
   "execution_count": 2,
   "id": "e7e76dfc",
   "metadata": {},
   "outputs": [],
   "source": [
    "reader = InputReader.InputReader()"
   ]
  },
  {
   "cell_type": "code",
   "execution_count": 3,
   "id": "9ea1f51a",
   "metadata": {},
   "outputs": [],
   "source": [
    "reader.read_video('/home/jessica/reading-kiln-termostat/data/gisela/04-09-2023-esmalte/04d/',\n",
    "                 '/home/jessica/reading-kiln-termostat/data/frames/04-09-2023/')"
   ]
  },
  {
   "cell_type": "code",
   "execution_count": 4,
   "id": "73c4a71d",
   "metadata": {},
   "outputs": [],
   "source": [
    "reader.read_video('/home/jessica/reading-kiln-termostat/data/gisela/29-08-2023-esmalte/29d/',\n",
    "                 '/home/jessica/reading-kiln-termostat/data/frames/29-08-2023/')"
   ]
  },
  {
   "cell_type": "code",
   "execution_count": 5,
   "id": "dedf061e",
   "metadata": {},
   "outputs": [],
   "source": [
    "video_path = '/home/jessica/reading-kiln-termostat/data/gisela/29-08-2023-esmalte/29d/'"
   ]
  },
  {
   "cell_type": "code",
   "execution_count": 7,
   "id": "5ef20f0f",
   "metadata": {},
   "outputs": [
    {
     "data": {
      "text/plain": [
       "[PosixPath('/home/jessica/reading-kiln-termostat/data/gisela/29-08-2023-esmalte/29d/09h'),\n",
       " PosixPath('/home/jessica/reading-kiln-termostat/data/gisela/29-08-2023-esmalte/29d/09h/40m30s_auto_300s_hd.mp4'),\n",
       " PosixPath('/home/jessica/reading-kiln-termostat/data/gisela/29-08-2023-esmalte/29d/09h/45m26s_auto_300s_hd.mp4'),\n",
       " PosixPath('/home/jessica/reading-kiln-termostat/data/gisela/29-08-2023-esmalte/29d/09h/50m26s_auto_209s_hd.mp4'),\n",
       " PosixPath('/home/jessica/reading-kiln-termostat/data/gisela/29-08-2023-esmalte/29d/09h/59m14s_alarm_150s_hd.mp4'),\n",
       " PosixPath('/home/jessica/reading-kiln-termostat/data/gisela/29-08-2023-esmalte/29d/10h'),\n",
       " PosixPath('/home/jessica/reading-kiln-termostat/data/gisela/29-08-2023-esmalte/29d/10h/10m06s_auto_300s_hd.mp4'),\n",
       " PosixPath('/home/jessica/reading-kiln-termostat/data/gisela/29-08-2023-esmalte/29d/10h/15m05s_auto_300s_hd.mp4'),\n",
       " PosixPath('/home/jessica/reading-kiln-termostat/data/gisela/29-08-2023-esmalte/29d/10h/20m03s_auto_300s_hd.mp4'),\n",
       " PosixPath('/home/jessica/reading-kiln-termostat/data/gisela/29-08-2023-esmalte/29d/10h/25m01s_auto_300s_hd.mp4'),\n",
       " PosixPath('/home/jessica/reading-kiln-termostat/data/gisela/29-08-2023-esmalte/29d/10h/29m59s_auto_300s_hd.mp4'),\n",
       " PosixPath('/home/jessica/reading-kiln-termostat/data/gisela/29-08-2023-esmalte/29d/10h/34m57s_auto_300s_hd.mp4'),\n",
       " PosixPath('/home/jessica/reading-kiln-termostat/data/gisela/29-08-2023-esmalte/29d/10h/39m55s_auto_300s_hd.mp4'),\n",
       " PosixPath('/home/jessica/reading-kiln-termostat/data/gisela/29-08-2023-esmalte/29d/10h/44m54s_auto_300s_hd.mp4'),\n",
       " PosixPath('/home/jessica/reading-kiln-termostat/data/gisela/29-08-2023-esmalte/29d/10h/49m52s_auto_300s_hd.mp4'),\n",
       " PosixPath('/home/jessica/reading-kiln-termostat/data/gisela/29-08-2023-esmalte/29d/10h/54m50s_auto_300s_hd.mp4'),\n",
       " PosixPath('/home/jessica/reading-kiln-termostat/data/gisela/29-08-2023-esmalte/29d/10h/59m48s_auto_300s_hd.mp4'),\n",
       " PosixPath('/home/jessica/reading-kiln-termostat/data/gisela/29-08-2023-esmalte/29d/11h'),\n",
       " PosixPath('/home/jessica/reading-kiln-termostat/data/gisela/29-08-2023-esmalte/29d/11h/04m46s_auto_300s_hd.mp4'),\n",
       " PosixPath('/home/jessica/reading-kiln-termostat/data/gisela/29-08-2023-esmalte/29d/11h/09m44s_auto_300s_hd.mp4'),\n",
       " PosixPath('/home/jessica/reading-kiln-termostat/data/gisela/29-08-2023-esmalte/29d/11h/14m43s_auto_300s_hd.mp4'),\n",
       " PosixPath('/home/jessica/reading-kiln-termostat/data/gisela/29-08-2023-esmalte/29d/11h/19m41s_auto_300s_hd.mp4'),\n",
       " PosixPath('/home/jessica/reading-kiln-termostat/data/gisela/29-08-2023-esmalte/29d/11h/24m39s_auto_300s_hd.mp4'),\n",
       " PosixPath('/home/jessica/reading-kiln-termostat/data/gisela/29-08-2023-esmalte/29d/11h/29m37s_auto_300s_hd.mp4'),\n",
       " PosixPath('/home/jessica/reading-kiln-termostat/data/gisela/29-08-2023-esmalte/29d/11h/34m36s_auto_300s_hd.mp4'),\n",
       " PosixPath('/home/jessica/reading-kiln-termostat/data/gisela/29-08-2023-esmalte/29d/11h/39m34s_auto_300s_hd.mp4'),\n",
       " PosixPath('/home/jessica/reading-kiln-termostat/data/gisela/29-08-2023-esmalte/29d/11h/44m33s_auto_300s_hd.mp4'),\n",
       " PosixPath('/home/jessica/reading-kiln-termostat/data/gisela/29-08-2023-esmalte/29d/11h/49m32s_auto_300s_hd.mp4'),\n",
       " PosixPath('/home/jessica/reading-kiln-termostat/data/gisela/29-08-2023-esmalte/29d/11h/54m30s_auto_300s_hd.mp4'),\n",
       " PosixPath('/home/jessica/reading-kiln-termostat/data/gisela/29-08-2023-esmalte/29d/11h/59m28s_auto_300s_hd.mp4'),\n",
       " PosixPath('/home/jessica/reading-kiln-termostat/data/gisela/29-08-2023-esmalte/29d/12h'),\n",
       " PosixPath('/home/jessica/reading-kiln-termostat/data/gisela/29-08-2023-esmalte/29d/12h/04m26s_auto_300s_hd.mp4'),\n",
       " PosixPath('/home/jessica/reading-kiln-termostat/data/gisela/29-08-2023-esmalte/29d/12h/09m24s_auto_300s_hd.mp4'),\n",
       " PosixPath('/home/jessica/reading-kiln-termostat/data/gisela/29-08-2023-esmalte/29d/12h/14m22s_auto_300s_hd.mp4'),\n",
       " PosixPath('/home/jessica/reading-kiln-termostat/data/gisela/29-08-2023-esmalte/29d/12h/19m20s_auto_300s_hd.mp4'),\n",
       " PosixPath('/home/jessica/reading-kiln-termostat/data/gisela/29-08-2023-esmalte/29d/12h/24m18s_auto_300s_hd.mp4'),\n",
       " PosixPath('/home/jessica/reading-kiln-termostat/data/gisela/29-08-2023-esmalte/29d/12h/29m16s_auto_300s_hd.mp4'),\n",
       " PosixPath('/home/jessica/reading-kiln-termostat/data/gisela/29-08-2023-esmalte/29d/12h/34m15s_auto_300s_hd.mp4'),\n",
       " PosixPath('/home/jessica/reading-kiln-termostat/data/gisela/29-08-2023-esmalte/29d/12h/39m13s_auto_300s_hd.mp4'),\n",
       " PosixPath('/home/jessica/reading-kiln-termostat/data/gisela/29-08-2023-esmalte/29d/12h/44m11s_auto_300s_hd.mp4'),\n",
       " PosixPath('/home/jessica/reading-kiln-termostat/data/gisela/29-08-2023-esmalte/29d/12h/49m09s_auto_300s_hd.mp4'),\n",
       " PosixPath('/home/jessica/reading-kiln-termostat/data/gisela/29-08-2023-esmalte/29d/12h/54m08s_auto_300s_hd.mp4'),\n",
       " PosixPath('/home/jessica/reading-kiln-termostat/data/gisela/29-08-2023-esmalte/29d/12h/59m06s_auto_300s_hd.mp4'),\n",
       " PosixPath('/home/jessica/reading-kiln-termostat/data/gisela/29-08-2023-esmalte/29d/13h'),\n",
       " PosixPath('/home/jessica/reading-kiln-termostat/data/gisela/29-08-2023-esmalte/29d/13h/04m04s_auto_300s_hd.mp4'),\n",
       " PosixPath('/home/jessica/reading-kiln-termostat/data/gisela/29-08-2023-esmalte/29d/13h/09m03s_auto_300s_hd.mp4'),\n",
       " PosixPath('/home/jessica/reading-kiln-termostat/data/gisela/29-08-2023-esmalte/29d/13h/14m01s_auto_300s_hd.mp4'),\n",
       " PosixPath('/home/jessica/reading-kiln-termostat/data/gisela/29-08-2023-esmalte/29d/13h/18m59s_auto_300s_hd.mp4'),\n",
       " PosixPath('/home/jessica/reading-kiln-termostat/data/gisela/29-08-2023-esmalte/29d/13h/23m57s_auto_300s_hd.mp4'),\n",
       " PosixPath('/home/jessica/reading-kiln-termostat/data/gisela/29-08-2023-esmalte/29d/13h/28m55s_auto_300s_hd.mp4'),\n",
       " PosixPath('/home/jessica/reading-kiln-termostat/data/gisela/29-08-2023-esmalte/29d/13h/33m53s_auto_300s_hd.mp4'),\n",
       " PosixPath('/home/jessica/reading-kiln-termostat/data/gisela/29-08-2023-esmalte/29d/13h/38m51s_auto_300s_hd.mp4'),\n",
       " PosixPath('/home/jessica/reading-kiln-termostat/data/gisela/29-08-2023-esmalte/29d/13h/43m49s_auto_300s_hd.mp4'),\n",
       " PosixPath('/home/jessica/reading-kiln-termostat/data/gisela/29-08-2023-esmalte/29d/13h/48m48s_auto_300s_hd.mp4'),\n",
       " PosixPath('/home/jessica/reading-kiln-termostat/data/gisela/29-08-2023-esmalte/29d/13h/53m46s_auto_300s_hd.mp4'),\n",
       " PosixPath('/home/jessica/reading-kiln-termostat/data/gisela/29-08-2023-esmalte/29d/13h/58m44s_auto_300s_hd.mp4'),\n",
       " PosixPath('/home/jessica/reading-kiln-termostat/data/gisela/29-08-2023-esmalte/29d/14h'),\n",
       " PosixPath('/home/jessica/reading-kiln-termostat/data/gisela/29-08-2023-esmalte/29d/14h/03m42s_auto_300s_hd.mp4'),\n",
       " PosixPath('/home/jessica/reading-kiln-termostat/data/gisela/29-08-2023-esmalte/29d/14h/08m40s_auto_300s_hd.mp4'),\n",
       " PosixPath('/home/jessica/reading-kiln-termostat/data/gisela/29-08-2023-esmalte/29d/14h/13m39s_auto_300s_hd.mp4'),\n",
       " PosixPath('/home/jessica/reading-kiln-termostat/data/gisela/29-08-2023-esmalte/29d/14h/18m37s_auto_300s_hd.mp4'),\n",
       " PosixPath('/home/jessica/reading-kiln-termostat/data/gisela/29-08-2023-esmalte/29d/14h/23m36s_auto_300s_hd.mp4'),\n",
       " PosixPath('/home/jessica/reading-kiln-termostat/data/gisela/29-08-2023-esmalte/29d/14h/28m34s_auto_300s_hd.mp4'),\n",
       " PosixPath('/home/jessica/reading-kiln-termostat/data/gisela/29-08-2023-esmalte/29d/14h/33m32s_auto_300s_hd.mp4'),\n",
       " PosixPath('/home/jessica/reading-kiln-termostat/data/gisela/29-08-2023-esmalte/29d/14h/38m28s_auto_300s_hd.mp4'),\n",
       " PosixPath('/home/jessica/reading-kiln-termostat/data/gisela/29-08-2023-esmalte/29d/14h/43m27s_auto_300s_hd.mp4'),\n",
       " PosixPath('/home/jessica/reading-kiln-termostat/data/gisela/29-08-2023-esmalte/29d/14h/48m24s_auto_300s_hd.mp4'),\n",
       " PosixPath('/home/jessica/reading-kiln-termostat/data/gisela/29-08-2023-esmalte/29d/14h/53m23s_auto_300s_hd.mp4'),\n",
       " PosixPath('/home/jessica/reading-kiln-termostat/data/gisela/29-08-2023-esmalte/29d/14h/58m21s_auto_300s_hd.mp4'),\n",
       " PosixPath('/home/jessica/reading-kiln-termostat/data/gisela/29-08-2023-esmalte/29d/15h'),\n",
       " PosixPath('/home/jessica/reading-kiln-termostat/data/gisela/29-08-2023-esmalte/29d/15h/03m19s_auto_300s_hd.mp4'),\n",
       " PosixPath('/home/jessica/reading-kiln-termostat/data/gisela/29-08-2023-esmalte/29d/15h/08m17s_auto_300s_hd.mp4'),\n",
       " PosixPath('/home/jessica/reading-kiln-termostat/data/gisela/29-08-2023-esmalte/29d/15h/13m15s_auto_300s_hd.mp4'),\n",
       " PosixPath('/home/jessica/reading-kiln-termostat/data/gisela/29-08-2023-esmalte/29d/15h/18m14s_auto_300s_hd.mp4'),\n",
       " PosixPath('/home/jessica/reading-kiln-termostat/data/gisela/29-08-2023-esmalte/29d/15h/23m12s_auto_300s_hd.mp4'),\n",
       " PosixPath('/home/jessica/reading-kiln-termostat/data/gisela/29-08-2023-esmalte/29d/15h/28m10s_auto_300s_hd.mp4'),\n",
       " PosixPath('/home/jessica/reading-kiln-termostat/data/gisela/29-08-2023-esmalte/29d/15h/33m08s_auto_300s_hd.mp4'),\n",
       " PosixPath('/home/jessica/reading-kiln-termostat/data/gisela/29-08-2023-esmalte/29d/15h/38m07s_auto_300s_hd.mp4'),\n",
       " PosixPath('/home/jessica/reading-kiln-termostat/data/gisela/29-08-2023-esmalte/29d/15h/43m05s_auto_300s_hd.mp4'),\n",
       " PosixPath('/home/jessica/reading-kiln-termostat/data/gisela/29-08-2023-esmalte/29d/15h/48m03s_auto_300s_hd.mp4'),\n",
       " PosixPath('/home/jessica/reading-kiln-termostat/data/gisela/29-08-2023-esmalte/29d/15h/53m01s_auto_300s_hd.mp4'),\n",
       " PosixPath('/home/jessica/reading-kiln-termostat/data/gisela/29-08-2023-esmalte/29d/15h/58m00s_auto_300s_hd.mp4'),\n",
       " PosixPath('/home/jessica/reading-kiln-termostat/data/gisela/29-08-2023-esmalte/29d/16h'),\n",
       " PosixPath('/home/jessica/reading-kiln-termostat/data/gisela/29-08-2023-esmalte/29d/16h/02m58s_auto_300s_hd.mp4'),\n",
       " PosixPath('/home/jessica/reading-kiln-termostat/data/gisela/29-08-2023-esmalte/29d/16h/07m56s_auto_300s_hd.mp4'),\n",
       " PosixPath('/home/jessica/reading-kiln-termostat/data/gisela/29-08-2023-esmalte/29d/16h/12m55s_auto_300s_hd.mp4'),\n",
       " PosixPath('/home/jessica/reading-kiln-termostat/data/gisela/29-08-2023-esmalte/29d/16h/17m53s_auto_300s_hd.mp4'),\n",
       " PosixPath('/home/jessica/reading-kiln-termostat/data/gisela/29-08-2023-esmalte/29d/16h/22m52s_auto_300s_hd.mp4'),\n",
       " PosixPath('/home/jessica/reading-kiln-termostat/data/gisela/29-08-2023-esmalte/29d/16h/27m50s_auto_300s_hd.mp4'),\n",
       " PosixPath('/home/jessica/reading-kiln-termostat/data/gisela/29-08-2023-esmalte/29d/16h/32m48s_auto_300s_hd.mp4'),\n",
       " PosixPath('/home/jessica/reading-kiln-termostat/data/gisela/29-08-2023-esmalte/29d/16h/37m46s_auto_300s_hd.mp4'),\n",
       " PosixPath('/home/jessica/reading-kiln-termostat/data/gisela/29-08-2023-esmalte/29d/16h/42m44s_auto_300s_hd.mp4'),\n",
       " PosixPath('/home/jessica/reading-kiln-termostat/data/gisela/29-08-2023-esmalte/29d/16h/47m42s_auto_300s_hd.mp4'),\n",
       " PosixPath('/home/jessica/reading-kiln-termostat/data/gisela/29-08-2023-esmalte/29d/16h/52m41s_auto_300s_hd.mp4'),\n",
       " PosixPath('/home/jessica/reading-kiln-termostat/data/gisela/29-08-2023-esmalte/29d/16h/57m39s_auto_300s_hd.mp4'),\n",
       " PosixPath('/home/jessica/reading-kiln-termostat/data/gisela/29-08-2023-esmalte/29d/17h'),\n",
       " PosixPath('/home/jessica/reading-kiln-termostat/data/gisela/29-08-2023-esmalte/29d/17h/02m38s_auto_300s_hd.mp4'),\n",
       " PosixPath('/home/jessica/reading-kiln-termostat/data/gisela/29-08-2023-esmalte/29d/17h/07m36s_auto_300s_hd.mp4'),\n",
       " PosixPath('/home/jessica/reading-kiln-termostat/data/gisela/29-08-2023-esmalte/29d/17h/12m35s_auto_300s_hd.mp4'),\n",
       " PosixPath('/home/jessica/reading-kiln-termostat/data/gisela/29-08-2023-esmalte/29d/17h/17m33s_auto_300s_hd.mp4'),\n",
       " PosixPath('/home/jessica/reading-kiln-termostat/data/gisela/29-08-2023-esmalte/29d/17h/22m32s_auto_300s_hd.mp4'),\n",
       " PosixPath('/home/jessica/reading-kiln-termostat/data/gisela/29-08-2023-esmalte/29d/17h/27m32s_auto_300s_hd.mp4'),\n",
       " PosixPath('/home/jessica/reading-kiln-termostat/data/gisela/29-08-2023-esmalte/29d/17h/32m32s_auto_300s_hd.mp4'),\n",
       " PosixPath('/home/jessica/reading-kiln-termostat/data/gisela/29-08-2023-esmalte/29d/17h/37m32s_auto_300s_hd.mp4'),\n",
       " PosixPath('/home/jessica/reading-kiln-termostat/data/gisela/29-08-2023-esmalte/29d/17h/42m32s_auto_300s_hd.mp4'),\n",
       " PosixPath('/home/jessica/reading-kiln-termostat/data/gisela/29-08-2023-esmalte/29d/17h/47m32s_auto_300s_hd.mp4'),\n",
       " PosixPath('/home/jessica/reading-kiln-termostat/data/gisela/29-08-2023-esmalte/29d/17h/52m32s_auto_300s_hd.mp4'),\n",
       " PosixPath('/home/jessica/reading-kiln-termostat/data/gisela/29-08-2023-esmalte/29d/17h/57m32s_auto_300s_hd.mp4'),\n",
       " PosixPath('/home/jessica/reading-kiln-termostat/data/gisela/29-08-2023-esmalte/29d/18h'),\n",
       " PosixPath('/home/jessica/reading-kiln-termostat/data/gisela/29-08-2023-esmalte/29d/18h/02m32s_auto_300s_hd.mp4'),\n",
       " PosixPath('/home/jessica/reading-kiln-termostat/data/gisela/29-08-2023-esmalte/29d/18h/07m32s_auto_300s_hd.mp4'),\n",
       " PosixPath('/home/jessica/reading-kiln-termostat/data/gisela/29-08-2023-esmalte/29d/18h/12m32s_auto_269s_hd.mp4')]"
      ]
     },
     "execution_count": 7,
     "metadata": {},
     "output_type": "execute_result"
    }
   ],
   "source": [
    "p = sorted(pathlib.Path(video_path).glob('**/*'))\n",
    "p"
   ]
  },
  {
   "cell_type": "code",
   "execution_count": 14,
   "id": "e9c726a8",
   "metadata": {},
   "outputs": [
    {
     "name": "stdout",
     "output_type": "stream",
     "text": [
      "/home/jessica/reading-kiln-termostat/data/gisela/29-08-2023-esmalte/29d///home/jessica/reading-kiln-termostat/data/gisela/29-08-2023-esmalte/29d/12h\n",
      "/home/jessica/reading-kiln-termostat/data/gisela/29-08-2023-esmalte/29d///home/jessica/reading-kiln-termostat/data/gisela/29-08-2023-esmalte/29d/17h\n",
      "/home/jessica/reading-kiln-termostat/data/gisela/29-08-2023-esmalte/29d///home/jessica/reading-kiln-termostat/data/gisela/29-08-2023-esmalte/29d/09h\n",
      "/home/jessica/reading-kiln-termostat/data/gisela/29-08-2023-esmalte/29d///home/jessica/reading-kiln-termostat/data/gisela/29-08-2023-esmalte/29d/18h\n",
      "/home/jessica/reading-kiln-termostat/data/gisela/29-08-2023-esmalte/29d///home/jessica/reading-kiln-termostat/data/gisela/29-08-2023-esmalte/29d/11h\n",
      "/home/jessica/reading-kiln-termostat/data/gisela/29-08-2023-esmalte/29d///home/jessica/reading-kiln-termostat/data/gisela/29-08-2023-esmalte/29d/15h\n",
      "/home/jessica/reading-kiln-termostat/data/gisela/29-08-2023-esmalte/29d///home/jessica/reading-kiln-termostat/data/gisela/29-08-2023-esmalte/29d/10h\n",
      "/home/jessica/reading-kiln-termostat/data/gisela/29-08-2023-esmalte/29d///home/jessica/reading-kiln-termostat/data/gisela/29-08-2023-esmalte/29d/16h\n",
      "/home/jessica/reading-kiln-termostat/data/gisela/29-08-2023-esmalte/29d///home/jessica/reading-kiln-termostat/data/gisela/29-08-2023-esmalte/29d/14h\n",
      "/home/jessica/reading-kiln-termostat/data/gisela/29-08-2023-esmalte/29d///home/jessica/reading-kiln-termostat/data/gisela/29-08-2023-esmalte/29d/13h\n"
     ]
    }
   ],
   "source": [
    "if dirs != []:\n",
    "    for d in dirs:\n",
    "        print(video_path + '/' + d)"
   ]
  },
  {
   "cell_type": "code",
   "execution_count": null,
   "id": "4f25dad2",
   "metadata": {},
   "outputs": [],
   "source": []
  }
 ],
 "metadata": {
  "kernelspec": {
   "display_name": "Python 3 (ipykernel)",
   "language": "python",
   "name": "python3"
  },
  "language_info": {
   "codemirror_mode": {
    "name": "ipython",
    "version": 3
   },
   "file_extension": ".py",
   "mimetype": "text/x-python",
   "name": "python",
   "nbconvert_exporter": "python",
   "pygments_lexer": "ipython3",
   "version": "3.10.12"
  }
 },
 "nbformat": 4,
 "nbformat_minor": 5
}
