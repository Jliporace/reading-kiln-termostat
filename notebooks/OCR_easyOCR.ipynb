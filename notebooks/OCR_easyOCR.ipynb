{
 "cells": [
  {
   "cell_type": "code",
   "execution_count": 2,
   "id": "0ec26275",
   "metadata": {},
   "outputs": [
    {
     "name": "stderr",
     "output_type": "stream",
     "text": [
      "Neither CUDA nor MPS are available - defaulting to CPU. Note: This module is much faster with a GPU.\n"
     ]
    }
   ],
   "source": [
    "import easyocr\n",
    "import sys\n",
    "reader = easyocr.Reader(['en'])\n",
    "sys.path.append('/home/jessica/reading-kiln-termostat/src')\n",
    "from pathlib import Path\n",
    "from datetime import datetime\n",
    "\n",
    "import cv2 \n",
    "import os\n",
    "import pathlib\n",
    "import matplotlib.pyplot as plt \n",
    "import numpy as np\n",
    "import input_reader\n",
    "import pre_processer\n",
    "import curve_creator\n",
    "import ssocr\n",
    "import pandas as pd\n",
    "\n",
    "input_reader = input_reader.InputReader()\n",
    "prep = pre_processer.PreProcesser()\n",
    "\n",
    "# 29-08-2023-esmalte 1158,1220 [515,595, 840,1020] - Refazer, na célula\n",
    "# 21-06-2024-esmalte 1160,1209 [580,670, 870,1100] - Na célula\n",
    "# 04-09-2023 1078, 1220 [750,830, 1220,1420] [755,830, 1080,1280] [760:830, 1020:1220]- OK\n",
    "# 04-04-2024-esmalte 1141, 1212, [435,530, 1115,1300] - Na célula\n",
    "# 16-04-2024 1160, 1212 [520,620, 920,1135] [510,590, 920,1135] 58f - reescrever a partir com novo bb\n",
    "# 01-08-2024-esmalte 1157, 1212, [545,635, 770,1020] - OK\n",
    "# 29-08-2024-esmalte 1156, 1210, [450,565, 780,1075] - Na célula\n",
    "# 10-10-2023-esmalte 1157, 1220, [445,525, 560,745]"
   ]
  },
  {
   "cell_type": "code",
   "execution_count": null,
   "id": "ca1e4687",
   "metadata": {},
   "outputs": [],
   "source": [
    "# Pipeline for a new test\n",
    "\n",
    "firings = ['29-08-2023-esmalte', '21-06-2024-esmalte',\n",
    "           '10-10-2023-esmalte', '04-04-2024-esmalte', '16-04-2024-esmalte',\n",
    "          '01-08-2024-esmalte', '29-08-2024-esmalte']\n",
    "\n",
    "initial_temps = [1158, 1160 , 1157, 1141, 1160, 1157, 1157]\n",
    "final_temps = [1220, 1209 , 1220, 1212, 1212, 1212, 1210]\n",
    "test_name = 'project-digits-2'\n",
    "df = pd.DataFrame(columns = ['nome', 'teste', 'ac_ocr', 'acr_previsao', 'erro_energia'])\n",
    "for firing, initial_temp, final_temp in zip(firings, initial_temps, final_temps):\n",
    "    save_path = f'/home/jessica/reading-kiln-termostat/data/recordings/test_results/{test_name}'\n",
    "    curve_creator = CurveCreator.CurveCreator(firing, save_path, initial_temp, final_temp)\n",
    "    curve, df_result = curve_creator.create_curve(test_name, method = 'digits')\n",
    "    df = pd.concat([df, df_result], ignore_index=True)\n",
    "    df.to_csv(save_path + '/test-results.csv')\n",
    "    \n",
    "df"
   ]
  },
  {
   "cell_type": "code",
   "execution_count": 2,
   "id": "237dbc0e",
   "metadata": {},
   "outputs": [
    {
     "name": "stderr",
     "output_type": "stream",
     "text": [
      "Neither CUDA nor MPS are available - defaulting to CPU. Note: This module is much faster with a GPU.\n",
      "/tmp/ipykernel_6572/1509622598.py:15: FutureWarning: The behavior of DataFrame concatenation with empty or all-NA entries is deprecated. In a future version, this will no longer exclude empty or all-NA columns when determining the result dtypes. To retain the old behavior, exclude the relevant entries before the concat operation.\n",
      "  df = pd.concat([df, df_result], ignore_index=True)\n",
      "Neither CUDA nor MPS are available - defaulting to CPU. Note: This module is much faster with a GPU.\n"
     ]
    },
    {
     "name": "stdout",
     "output_type": "stream",
     "text": [
      "82\n"
     ]
    },
    {
     "name": "stderr",
     "output_type": "stream",
     "text": [
      "Neither CUDA nor MPS are available - defaulting to CPU. Note: This module is much faster with a GPU.\n"
     ]
    },
    {
     "name": "stdout",
     "output_type": "stream",
     "text": [
      "67\n"
     ]
    },
    {
     "name": "stderr",
     "output_type": "stream",
     "text": [
      "Neither CUDA nor MPS are available - defaulting to CPU. Note: This module is much faster with a GPU.\n"
     ]
    },
    {
     "name": "stdout",
     "output_type": "stream",
     "text": [
      "91\n"
     ]
    },
    {
     "name": "stderr",
     "output_type": "stream",
     "text": [
      "Neither CUDA nor MPS are available - defaulting to CPU. Note: This module is much faster with a GPU.\n"
     ]
    },
    {
     "name": "stdout",
     "output_type": "stream",
     "text": [
      "97\n"
     ]
    },
    {
     "name": "stderr",
     "output_type": "stream",
     "text": [
      "Neither CUDA nor MPS are available - defaulting to CPU. Note: This module is much faster with a GPU.\n"
     ]
    },
    {
     "name": "stdout",
     "output_type": "stream",
     "text": [
      "80\n"
     ]
    },
    {
     "name": "stderr",
     "output_type": "stream",
     "text": [
      "Neither CUDA nor MPS are available - defaulting to CPU. Note: This module is much faster with a GPU.\n"
     ]
    },
    {
     "name": "stdout",
     "output_type": "stream",
     "text": [
      "77\n",
      "72\n"
     ]
    }
   ],
   "source": [
    "now = datetime.now()\n",
    "\n",
    "firings = ['29-08-2023-esmalte', '21-06-2024-esmalte',\n",
    "           '10-10-2023-esmalte', '04-04-2024-esmalte', '16-04-2024-esmalte',\n",
    "          '01-08-2024-esmalte', '29-08-2024-esmalte']\n",
    "\n",
    "initial_temps = [1158, 1160 , 1157, 1141, 1160, 1157, 1157]\n",
    "final_temps = [1220, 1209 , 1220, 1212, 1212, 1212, 1210]\n",
    "test_name = 'project-digits-time'\n",
    "df = pd.DataFrame(columns = ['nome', 'teste', 'ac_ocr', 'acr_previsao', 'erro_energia'])\n",
    "for firing, initial_temp, final_temp in zip(firings, initial_temps, final_temps):\n",
    "    save_path = f'/home/jessica/reading-kiln-termostat/data/recordings/test_results/{test_name}'\n",
    "    curve_creator = CurveCreator.CurveCreator(firing, save_path, initial_temp, final_temp)\n",
    "    curve, df_result = curve_creator.create_curve(test_name, method = 'digits')\n",
    "    df = pd.concat([df, df_result], ignore_index=True)\n",
    "    df.to_csv(save_path + '/test-results.csv')\n",
    "    \n",
    "after = datetime.now()\n",
    "difference_digits = after - now"
   ]
  },
  {
   "cell_type": "code",
   "execution_count": 3,
   "id": "9d976313",
   "metadata": {},
   "outputs": [
    {
     "name": "stderr",
     "output_type": "stream",
     "text": [
      "Neither CUDA nor MPS are available - defaulting to CPU. Note: This module is much faster with a GPU.\n",
      "/tmp/ipykernel_6572/2344860836.py:15: FutureWarning: The behavior of DataFrame concatenation with empty or all-NA entries is deprecated. In a future version, this will no longer exclude empty or all-NA columns when determining the result dtypes. To retain the old behavior, exclude the relevant entries before the concat operation.\n",
      "  df = pd.concat([df, df_result], ignore_index=True)\n",
      "Neither CUDA nor MPS are available - defaulting to CPU. Note: This module is much faster with a GPU.\n"
     ]
    },
    {
     "name": "stdout",
     "output_type": "stream",
     "text": [
      "82\n"
     ]
    },
    {
     "name": "stderr",
     "output_type": "stream",
     "text": [
      "Neither CUDA nor MPS are available - defaulting to CPU. Note: This module is much faster with a GPU.\n"
     ]
    },
    {
     "name": "stdout",
     "output_type": "stream",
     "text": [
      "67\n"
     ]
    },
    {
     "name": "stderr",
     "output_type": "stream",
     "text": [
      "Neither CUDA nor MPS are available - defaulting to CPU. Note: This module is much faster with a GPU.\n"
     ]
    },
    {
     "name": "stdout",
     "output_type": "stream",
     "text": [
      "91\n"
     ]
    },
    {
     "name": "stderr",
     "output_type": "stream",
     "text": [
      "Neither CUDA nor MPS are available - defaulting to CPU. Note: This module is much faster with a GPU.\n"
     ]
    },
    {
     "name": "stdout",
     "output_type": "stream",
     "text": [
      "97\n"
     ]
    },
    {
     "name": "stderr",
     "output_type": "stream",
     "text": [
      "Neither CUDA nor MPS are available - defaulting to CPU. Note: This module is much faster with a GPU.\n"
     ]
    },
    {
     "name": "stdout",
     "output_type": "stream",
     "text": [
      "80\n"
     ]
    },
    {
     "name": "stderr",
     "output_type": "stream",
     "text": [
      "Neither CUDA nor MPS are available - defaulting to CPU. Note: This module is much faster with a GPU.\n"
     ]
    },
    {
     "name": "stdout",
     "output_type": "stream",
     "text": [
      "77\n",
      "72\n"
     ]
    }
   ],
   "source": [
    "now = datetime.now()\n",
    "\n",
    "firings = ['29-08-2023-esmalte', '21-06-2024-esmalte',\n",
    "           '10-10-2023-esmalte', '04-04-2024-esmalte', '16-04-2024-esmalte',\n",
    "          '01-08-2024-esmalte', '29-08-2024-esmalte']\n",
    "\n",
    "initial_temps = [1158, 1160 , 1157, 1141, 1160, 1157, 1157]\n",
    "final_temps = [1220, 1209 , 1220, 1212, 1212, 1212, 1210]\n",
    "test_name = 'project-ocr-time'\n",
    "df = pd.DataFrame(columns = ['nome', 'teste', 'ac_ocr', 'acr_previsao', 'erro_energia'])\n",
    "for firing, initial_temp, final_temp in zip(firings, initial_temps, final_temps):\n",
    "    save_path = f'/home/jessica/reading-kiln-termostat/data/recordings/test_results/{test_name}'\n",
    "    curve_creator = CurveCreator.CurveCreator(firing, save_path, initial_temp, final_temp)\n",
    "    curve, df_result = curve_creator.create_curve(test_name, method = 'easy-ocr')\n",
    "    df = pd.concat([df, df_result], ignore_index=True)\n",
    "    df.to_csv(save_path + '/test-results.csv')\n",
    "    \n",
    "after = datetime.now()\n",
    "difference_ocr = after - now"
   ]
  },
  {
   "cell_type": "code",
   "execution_count": 4,
   "id": "d3c2fd7e",
   "metadata": {},
   "outputs": [],
   "source": [
    "total_callings = 82 + 67 + 91 + 97 + 80 + 77 + 72"
   ]
  },
  {
   "cell_type": "code",
   "execution_count": 12,
   "id": "32b76c6d",
   "metadata": {},
   "outputs": [
    {
     "data": {
      "text/plain": [
       "0.24150040106007065"
      ]
     },
     "execution_count": 12,
     "metadata": {},
     "output_type": "execute_result"
    }
   ],
   "source": [
    "difference_ocr.total_seconds()/total_callings"
   ]
  },
  {
   "cell_type": "code",
   "execution_count": 11,
   "id": "614bc170",
   "metadata": {},
   "outputs": [
    {
     "data": {
      "text/plain": [
       "0.04294943992932862"
      ]
     },
     "execution_count": 11,
     "metadata": {},
     "output_type": "execute_result"
    }
   ],
   "source": [
    "difference_digits.total_seconds()/total_callings"
   ]
  },
  {
   "cell_type": "code",
   "execution_count": 2,
   "id": "70bd1b90",
   "metadata": {},
   "outputs": [
    {
     "name": "stderr",
     "output_type": "stream",
     "text": [
      "Neither CUDA nor MPS are available - defaulting to CPU. Note: This module is much faster with a GPU.\n",
      "/tmp/ipykernel_7260/3248131022.py:13: FutureWarning: The behavior of DataFrame concatenation with empty or all-NA entries is deprecated. In a future version, this will no longer exclude empty or all-NA columns when determining the result dtypes. To retain the old behavior, exclude the relevant entries before the concat operation.\n",
      "  df = pd.concat([df, df_result], ignore_index=True)\n",
      "Neither CUDA nor MPS are available - defaulting to CPU. Note: This module is much faster with a GPU.\n",
      "Neither CUDA nor MPS are available - defaulting to CPU. Note: This module is much faster with a GPU.\n",
      "Neither CUDA nor MPS are available - defaulting to CPU. Note: This module is much faster with a GPU.\n",
      "Neither CUDA nor MPS are available - defaulting to CPU. Note: This module is much faster with a GPU.\n",
      "Neither CUDA nor MPS are available - defaulting to CPU. Note: This module is much faster with a GPU.\n",
      "Neither CUDA nor MPS are available - defaulting to CPU. Note: This module is much faster with a GPU.\n"
     ]
    },
    {
     "data": {
      "text/html": [
       "<div>\n",
       "<style scoped>\n",
       "    .dataframe tbody tr th:only-of-type {\n",
       "        vertical-align: middle;\n",
       "    }\n",
       "\n",
       "    .dataframe tbody tr th {\n",
       "        vertical-align: top;\n",
       "    }\n",
       "\n",
       "    .dataframe thead th {\n",
       "        text-align: right;\n",
       "    }\n",
       "</style>\n",
       "<table border=\"1\" class=\"dataframe\">\n",
       "  <thead>\n",
       "    <tr style=\"text-align: right;\">\n",
       "      <th></th>\n",
       "      <th>nome</th>\n",
       "      <th>teste</th>\n",
       "      <th>ac_ocr</th>\n",
       "      <th>acr_previsao</th>\n",
       "      <th>erro_energia</th>\n",
       "    </tr>\n",
       "  </thead>\n",
       "  <tbody>\n",
       "    <tr>\n",
       "      <th>0</th>\n",
       "      <td>29-08-2023-esmalte</td>\n",
       "      <td>project-digits-2</td>\n",
       "      <td>0.426829</td>\n",
       "      <td>0.548780</td>\n",
       "      <td>3593.3</td>\n",
       "    </tr>\n",
       "    <tr>\n",
       "      <th>1</th>\n",
       "      <td>21-06-2024-esmalte</td>\n",
       "      <td>project-digits-2</td>\n",
       "      <td>0.014925</td>\n",
       "      <td>0.014925</td>\n",
       "      <td>10824.1</td>\n",
       "    </tr>\n",
       "    <tr>\n",
       "      <th>2</th>\n",
       "      <td>10-10-2023-esmalte</td>\n",
       "      <td>project-digits-2</td>\n",
       "      <td>0.197802</td>\n",
       "      <td>0.395604</td>\n",
       "      <td>-3092.9</td>\n",
       "    </tr>\n",
       "    <tr>\n",
       "      <th>3</th>\n",
       "      <td>04-04-2024-esmalte</td>\n",
       "      <td>project-digits-2</td>\n",
       "      <td>0.226804</td>\n",
       "      <td>0.329897</td>\n",
       "      <td>-10763.1</td>\n",
       "    </tr>\n",
       "    <tr>\n",
       "      <th>4</th>\n",
       "      <td>16-04-2024-esmalte</td>\n",
       "      <td>project-digits-2</td>\n",
       "      <td>0.012500</td>\n",
       "      <td>0.137500</td>\n",
       "      <td>8748.7</td>\n",
       "    </tr>\n",
       "    <tr>\n",
       "      <th>5</th>\n",
       "      <td>01-08-2024-esmalte</td>\n",
       "      <td>project-digits-2</td>\n",
       "      <td>0.077922</td>\n",
       "      <td>0.324675</td>\n",
       "      <td>-7280.1</td>\n",
       "    </tr>\n",
       "    <tr>\n",
       "      <th>6</th>\n",
       "      <td>29-08-2024-esmalte</td>\n",
       "      <td>project-digits-2</td>\n",
       "      <td>0.138889</td>\n",
       "      <td>0.055556</td>\n",
       "      <td>-11267.6</td>\n",
       "    </tr>\n",
       "  </tbody>\n",
       "</table>\n",
       "</div>"
      ],
      "text/plain": [
       "                 nome             teste    ac_ocr  acr_previsao  erro_energia\n",
       "0  29-08-2023-esmalte  project-digits-2  0.426829      0.548780        3593.3\n",
       "1  21-06-2024-esmalte  project-digits-2  0.014925      0.014925       10824.1\n",
       "2  10-10-2023-esmalte  project-digits-2  0.197802      0.395604       -3092.9\n",
       "3  04-04-2024-esmalte  project-digits-2  0.226804      0.329897      -10763.1\n",
       "4  16-04-2024-esmalte  project-digits-2  0.012500      0.137500        8748.7\n",
       "5  01-08-2024-esmalte  project-digits-2  0.077922      0.324675       -7280.1\n",
       "6  29-08-2024-esmalte  project-digits-2  0.138889      0.055556      -11267.6"
      ]
     },
     "execution_count": 2,
     "metadata": {},
     "output_type": "execute_result"
    }
   ],
   "source": []
  },
  {
   "cell_type": "code",
   "execution_count": 2,
   "id": "5017c2fa",
   "metadata": {},
   "outputs": [
    {
     "name": "stderr",
     "output_type": "stream",
     "text": [
      "Neither CUDA nor MPS are available - defaulting to CPU. Note: This module is much faster with a GPU.\n"
     ]
    }
   ],
   "source": [
    "dir_path = '/home/jessica/reading-kiln-termostat/data/recordings/10-10-2023-esmalte/'\n",
    "save_path = '/home/jessica/reading-kiln-termostat/data/recordings/10-10-2023-esmalte/'\n",
    "\n",
    "curve_creator = CurveCreator.CurveCreator('10-10-2023-esmalte', save_path, 1157, 1220, [445,525, 600,790], False )\n",
    "curve_creator.save_cropped_images()"
   ]
  },
  {
   "cell_type": "code",
   "execution_count": 2,
   "id": "227fa7ec",
   "metadata": {},
   "outputs": [
    {
     "name": "stderr",
     "output_type": "stream",
     "text": [
      "Neither CUDA nor MPS are available - defaulting to CPU. Note: This module is much faster with a GPU.\n"
     ]
    }
   ],
   "source": [
    "curve_creator = CurveCreator.CurveCreator('10-10-2023-esmalte', '/home/jessica/reading-kiln-termostat/data/recordings/10-10-2023-esmalte/processed')\n",
    "curve_creator.frame_firing()"
   ]
  },
  {
   "cell_type": "code",
   "execution_count": 5,
   "id": "d72221bd",
   "metadata": {},
   "outputs": [
    {
     "name": "stderr",
     "output_type": "stream",
     "text": [
      "Neither CUDA nor MPS are available - defaulting to CPU. Note: This module is much faster with a GPU.\n"
     ]
    }
   ],
   "source": [
    "dir_path = '/home/jessica/reading-kiln-termostat/data/recordings/29-08-2024-esmalte/'\n",
    "save_path = '/home/jessica/reading-kiln-termostat/data/recordings/29-08-2024-esmalte/'\n",
    "\n",
    "curve_creator = CurveCreator.CurveCreator('29-08-2024-esmalte', save_path, 1156, 1212, [460,570, 875,1110], False )\n",
    "curve_creator.save_cropped_images()"
   ]
  },
  {
   "cell_type": "code",
   "execution_count": null,
   "id": "38a948b8",
   "metadata": {},
   "outputs": [],
   "source": [
    "save_path = '/home/jessica/reading-kiln-termostat/data/recordings/29-08-2024-esmalte/processed'\n",
    "import pathlib\n",
    "frames_path_ir = sorted(pathlib.Path(save_path + '/' + 'frames').glob('**/*'), key=lambda x: x.stat().st_ctime)\n",
    "frames = [str(f) for f in frames_path_ir if f.is_file()]\n",
    "frames"
   ]
  },
  {
   "cell_type": "code",
   "execution_count": 6,
   "id": "de768061",
   "metadata": {},
   "outputs": [],
   "source": [
    "a = [1078, 1080, 1082, 1083, 1087, 1090, 1092, 1093, 1095, 1096, 1098, 1100, 1103, 1105, 1106, 1108, 1110, 1111, 1113, 1114, 1116, 1117, 1119, 1121, 1122, 1124, 1125, 1126, 1127, 1129, 1130, 1131, 1132, 1133, 1135, 1136, 1137, 1138, 1139, 1141, 1142, 1144, 1145, 1147, 1148, 1150, 1151, 1152, 1153, 1155, 1156, 1157, 1158, 1159, 1160, 1161, 1162, 1164, 1165, 1166, 1167, 1168, 1169, 1170, 1174, 1174, 1174, 1174, 1175, 1176, 1177, 1178, 1179, 1180, 1181, 1181, 1182, 1183, 1184, 1185, 1186, 1187, 1187, 1188, 1189, 1190, 1191, 1192, 1192, 1193, 1194, 1195, 1196, 1196, 1198, 1199, 1200, 1200, 1201, 1201, 1202, 1203, 1204, 1205, 1206, 1206, 1207, 1208, 1209, 1209, 1210, 1211, 1212, 1213, 1214, 1214, 1215, 1216, 1217, 1217,]\n",
    "b = [1078, 1080, 1082, 1083, 1087, 1090, 1092, 1093, 1095, 1096, 1098, 1100, 1103, 1105, 1106, 1108, 1110, 1111, 1113, 1114, 1116, 1117, 1119, 1121, 1122, 1124, 1125, 1126, 1127, 1129, 1130, 1131, 1132, 1133, 1135, 1136, 1137, 1138, 1139, 1142, 1143, 1145, 1146, 1147, 1148, 1150, 1151, 1152, 1153, 1154, 1155, 1156, 1158, 1159, 1160, 1162, 1163, 1164, 1165, 1166, 1167, 1168, 1169, 1170, 1171, 1172, 1173, 1174, 1175, 1176, 1177, 1177, 1179, 1180, 1181, 1181, 1182, 1183, 1184, 1185, 1186, 1187, 1187, 1188, 1189, 1190, 1191, 1192, 1192, 1193, 1194, 1195, 1196, 1197, 1198, 1199, 1200, 1200, 1201, 1201, 1202, 1203, 1204, 1205, 1206, 1206, 1207, 1208, 1209, 1209, 1210, 1211, 1212, 1213, 1214, 1214, 1215, 1216, 1217]"
   ]
  },
  {
   "cell_type": "code",
   "execution_count": 10,
   "id": "783b85c8",
   "metadata": {},
   "outputs": [
    {
     "data": {
      "text/plain": [
       "120"
      ]
     },
     "execution_count": 10,
     "metadata": {},
     "output_type": "execute_result"
    }
   ],
   "source": [
    "len(a)\n",
    "# len(b)"
   ]
  },
  {
   "cell_type": "code",
   "execution_count": 4,
   "id": "f9bf88ee",
   "metadata": {},
   "outputs": [
    {
     "data": {
      "text/plain": [
       "143"
      ]
     },
     "execution_count": 4,
     "metadata": {},
     "output_type": "execute_result"
    }
   ],
   "source": [
    "len([1078, 1080, 1082, 1083, 1087, 1090, 1092, 1093, 1095, 1096, 1098, 1100, 1103, 1105, 1106, 1108, 1110, 1111, 1113, 1114, 1116, 1117, 1119, 1121, 1122, 1124, 1125, 1126, 1127, 1129, 1130, 1131, 1132, 1133, 1135, 1136, 1137, 1138, 1139, 1142, 1143, 1145, 1146, 1147, 1148, 1150, 1151, 1152, 1153, 1154, 1155, 1156, 1158, 1159, 1160, 1162, 1163, 1164, 1165, 1166, 1167, 1168, 1169, 1170, 1171, 1172, 1173, 1174, 1175, 1176, 1177, 1177, 1179, 1180, 1181, 1181, 1182, 1183, 1184, 1185, 1186, 1187, 1187, 1188, 1189, 1190, 1191, 1192, 1192, 1193, 1194, 1195, 1196, 1197, 1198, 1199, 1200, 1200, 1201, 1201, 1202, 1203, 1204, 1205, 1206, 1206, 1207, 1208, 1209, 1209, 1210, 1211, 1212, 1213, 1214, 1214, 1215, 1216, 1217, 1217, 1218, 1219, 1219, 1220, 1220, 1220, 1220, 1220, 1220, 1220, 1220, 1220, 1220, 1220, 1220, 1220, 1220, 1220, 1220, 1220, 1220, 1220, 1221])"
   ]
  },
  {
   "cell_type": "code",
   "execution_count": null,
   "id": "0e0c62f8",
   "metadata": {},
   "outputs": [],
   "source": [
    "(np.array([1, 2, 3]) == np.array([1, 2, 4])).sum()"
   ]
  },
  {
   "cell_type": "code",
   "execution_count": null,
   "id": "0c5cf914",
   "metadata": {},
   "outputs": [],
   "source": []
  },
  {
   "cell_type": "code",
   "execution_count": 3,
   "id": "fe7cdc70",
   "metadata": {},
   "outputs": [],
   "source": [
    "firing =  '10-10-2023-esmalte'\n",
    "directory = f'/home/jessica/reading-kiln-termostat/data/recordings/{firing}/cropped_datetime'\n",
    "labels =  [1157, 1158, 1159, 1160,1162, 1163, 1164, 1165, 1166, 1167, 1168, 1169, 1170, 1171, 1172, 1173, 1173, 1174, 1175, 1176,\n",
    "      1176, 1177, 1178, 1179, 1180, 1181, 1182, 1182, 1183, 1184, 1185, 1186, 1186, 1187, 1188, 1189, 119, 1190, 1191, 1191, 1192, 1193, \n",
    "      1193, 1194, 1195, 1196, 1196, 1197, 1198, 1198, 1199, 1200, 1201, 1202, 1202, 1203, 1204, 1205, 1206, 1207, 1207, 1208, 1209, 1210, \n",
    "      1210, 1211, 1212, 1213, 1213, 1214, 1214, 1215, 1216, 1216, 1217, 1217, 1218, 1218, 1219, 1219, 1220, 1220, 1220, 1220, 1220, 1220, 1220, 1220, 1220, 1220]\n",
    "for label, filename in zip(labels, sorted(os.listdir(directory))):\n",
    "    \n",
    "    # Define the full file path\n",
    "    old_file = os.path.join(directory, filename)\n",
    "    new_file = os.path.join(directory, str(label) + '_' + filename)\n",
    "    \n",
    "    # Rename the file\n",
    "    os.rename(old_file, new_file)"
   ]
  },
  {
   "cell_type": "code",
   "execution_count": 4,
   "id": "249a0931",
   "metadata": {},
   "outputs": [
    {
     "data": {
      "text/plain": [
       "90"
      ]
     },
     "execution_count": 4,
     "metadata": {},
     "output_type": "execute_result"
    }
   ],
   "source": [
    "len( [1157, 1158, 1159, 1160,1162, 1163, 1164, 1165, 1166, 1167, 1168, 1169, 1170, 1171, 1172, 1173, 1173, 1174, 1175, 1176,\n",
    "      1176, 1177, 1178, 1179, 1180, 1181, 1182, 1182, 1183, 1184, 1185, 1186, 1186, 1187, 1188, 1189, 119, 1190, 1191, 1191, 1192, 1193, \n",
    "      1193, 1194, 1195, 1196, 1196, 1197, 1198, 1198, 1199, 1200, 1201, 1202, 1202, 1203, 1204, 1205, 1206, 1207, 1207, 1208, 1209, 1210, \n",
    "      1210, 1211, 1212, 1213, 1213, 1214, 1214, 1215, 1216, 1216, 1217, 1217, 1218, 1218, 1219, 1219, 1220, 1220, 1220, 1220, 1220, 1220, 1220, 1220, 1220, 1220])"
   ]
  },
  {
   "cell_type": "code",
   "execution_count": null,
   "id": "f8e549f4",
   "metadata": {},
   "outputs": [],
   "source": [
    "dir_path = '/home/jessica/reading-kiln-termostat/data/original_recordings/21-06-2024-esmalte'\n",
    "save_path = '/home/jessica/reading-kiln-termostat/data/processed_recordings/'\n",
    "\n",
    "curve_creator = CurveCreator.CurveCreator(dir_path, save_path, 1160,1209, [580,670, 870,1100], False )\n",
    "curve_creator.create_curve()"
   ]
  },
  {
   "cell_type": "code",
   "execution_count": null,
   "id": "bf762c3a",
   "metadata": {},
   "outputs": [],
   "source": [
    "# dir_path = '/home/jessica/reading-kiln-termostat/data/original_recordings/04-09-2023-esmalte'\n",
    "# save_path = '/home/jessica/reading-kiln-termostat/data/processed_recordings/'\n",
    "\n",
    "# curve_creator = CurveCreator.CurveCreator(dir_path, save_path, 1078, 1220, [750,830, 1220,1420], False )\n",
    "# curve_creator.create_curve()"
   ]
  },
  {
   "cell_type": "code",
   "execution_count": null,
   "id": "7e7de046",
   "metadata": {},
   "outputs": [],
   "source": [
    "dir_path = '/home/jessica/reading-kiln-termostat/data/original_recordings/29-08-2024-esmalte'\n",
    "save_path = '/home/jessica/reading-kiln-termostat/data/processed_recordings/'\n",
    "\n",
    "curve_creator = CurveCreator.CurveCreator(dir_path, save_path, 1156, 1210, [450,565, 760,1095], False )\n",
    "curve_creator.create_curve()"
   ]
  },
  {
   "cell_type": "code",
   "execution_count": null,
   "id": "79e4228b",
   "metadata": {},
   "outputs": [],
   "source": [
    "dir_path = '/home/jessica/reading-kiln-termostat/data/original_recordings/04-04-2024-esmalte'\n",
    "save_path = '/home/jessica/reading-kiln-termostat/data/processed_recordings/'\n",
    "\n",
    "curve_creator = CurveCreator.CurveCreator(dir_path, save_path, 1141, 1212, [435,530, 1115,1300], False )\n",
    "\n",
    "curve_creator.create_curve()"
   ]
  },
  {
   "cell_type": "code",
   "execution_count": null,
   "id": "a3c6713a",
   "metadata": {},
   "outputs": [],
   "source": [
    "dir_path = '/home/jessica/reading-kiln-termostat/data/original_recordings/16-04-2024-esmalte'\n",
    "save_path = '/home/jessica/reading-kiln-termostat/data/processed_recordings/'\n",
    "# #Mudar para frame 58\n",
    "curve_creator = CurveCreator.CurveCreator(dir_path, save_path, 1160, 1212, [510,590, 920,1135], False )\n",
    "# curve_creator.save_cropped_images()\n",
    "curve_creator.create_curve()"
   ]
  },
  {
   "cell_type": "code",
   "execution_count": null,
   "id": "c4aaeb51",
   "metadata": {},
   "outputs": [],
   "source": [
    "dir_path = '/home/jessica/reading-kiln-termostat/data/original_recordings/29-08-2023-esmalte '\n",
    "save_path = '/home/jessica/reading-kiln-termostat/data/processed_recordings/'\n",
    "\n",
    "curve_creator = CurveCreator.CurveCreator(dir_path, save_path, 1158,1220 [515,595, 840,1020] , False )\n",
    "curve_creator.create_curve()"
   ]
  },
  {
   "cell_type": "code",
   "execution_count": null,
   "id": "cb19969f",
   "metadata": {},
   "outputs": [],
   "source": [
    "x_1169 = '/home/jessica/reading-kiln-termostat/data/processed_recordings/21-06-2024-esmalte/prediction_frames/2024-06-21_22:19:40_1168.png'\n",
    "#Define the lower and upper bounds for the white color\n",
    "# Since white is (255, 255, 255) in BGR, use a range close to it\n",
    "img = cv2.imread(x_1169)\n",
    "img = cv2.cvtColor(img, cv2.COLOR_BGR2GRAY)\n",
    "plt.imshow(img, cmap = 'gray', interpolation = 'bicubic')\n",
    "_, threshold_image = cv2.threshold(img, 252, 255, cv2.THRESH_BINARY)\n",
    "\n",
    "plt.imshow(threshold_image, cmap = 'gray', interpolation = 'bicubic')\n",
    "ocr = reader.readtext(threshold_image, allowlist='0123456789')\n",
    "ocr"
   ]
  },
  {
   "cell_type": "code",
   "execution_count": null,
   "id": "b1d07bf8",
   "metadata": {},
   "outputs": [],
   "source": [
    "def white_mask(image):\n",
    "    lower_white = np.array([250, 250, 250], dtype=np.uint8)\n",
    "    upper_white = np.array([255, 255, 255], dtype=np.uint8)\n",
    "\n",
    "    # Create a mask to filter out white pixels\n",
    "    mask = cv2.inRange(image, lower_white, upper_white)\n",
    "\n",
    "    # Optionally, apply the mask to the original image to extract only white areas\n",
    "    return cv2.bitwise_and(image, image, mask=mask)\n",
    "\n",
    "def red_mask(image):\n",
    "    lower_red = np.array([110, 110, 240], dtype=np.uint8)\n",
    "    upper_red = np.array([255, 255, 255], dtype=np.uint8)\n",
    "\n",
    "    # Create a mask to filter out white pixels\n",
    "    mask = cv2.inRange(image, lower_red, upper_red)\n",
    "\n",
    "    # Optionally, apply the mask to the original image to extract only white areas\n",
    "    return cv2.bitwise_and(image, image, mask=mask)"
   ]
  },
  {
   "cell_type": "code",
   "execution_count": null,
   "id": "1b12fc0a",
   "metadata": {},
   "outputs": [],
   "source": [
    "#Para branco\n",
    "# path = '/home/jessica/reading-kiln-termostat/data/frames/crop_test/2023-09-04_18: 32:41_1192.png'\n",
    "image = cv2.imread(grey1)\n",
    "\n",
    "# Define the lower and upper bounds for the white color\n",
    "# Since white is (255, 255, 255) in BGR, use a range close to it\n",
    "lower_white = np.array([240, 240, 240], dtype=np.uint8)\n",
    "upper_white = np.array([255, 255, 255], dtype=np.uint8)\n",
    "\n",
    "# Create a mask to filter out white pixels\n",
    "mask = cv2.inRange(image, lower_white, upper_white)\n",
    "\n",
    "# Optionally, apply the mask to the original image to extract only white areas\n",
    "white_pixels = cv2.bitwise_and(image, image, mask=mask)\n",
    "ocr = reader.readtext(white_pixels, allowlist='0123456789')\n",
    "plt.imshow(white_pixels, cmap = 'gray', interpolation = 'bicubic')\n",
    "\n",
    "ocr"
   ]
  },
  {
   "cell_type": "code",
   "execution_count": null,
   "id": "d735b970",
   "metadata": {},
   "outputs": [],
   "source": [
    "image = cv2.imread(red1)\n",
    "\n",
    "# Define the lower and upper bounds for the white color\n",
    "# Since white is (255, 255, 255) in BGR, use a range close to it\n",
    "lower_white = np.array([50, 50, 210], dtype=np.uint8)\n",
    "upper_white = np.array([255, 255, 255], dtype=np.uint8)\n",
    "\n",
    "# Create a mask to filter out white pixels\n",
    "mask = cv2.inRange(image, lower_white, upper_white)\n",
    "\n",
    "# Optionally, apply the mask to the original image to extract only white areas\n",
    "white_pixels = cv2.bitwise_and(image, image, mask=mask)\n",
    "ocr = reader.readtext(white_pixels, allowlist='0123456789')\n",
    "plt.imshow(white_pixels, cmap = 'gray', interpolation = 'bicubic')\n",
    "\n",
    "ocr"
   ]
  },
  {
   "cell_type": "code",
   "execution_count": null,
   "id": "7033f742",
   "metadata": {},
   "outputs": [],
   "source": [
    "img = cv2.imread('/home/jessica/reading-kiln-termostat/data/processed_recordings/16-04-2024-esmalte/prediction_frames/2024-04-16_21:39:12_17_1169.png')\n",
    "_, threshold_image = cv2.threshold(img, 250, 255, cv2.THRESH_BINARY)\n",
    "\n",
    "plt.imshow(threshold_image, cmap = 'gray', interpolation = 'bicubic')\n",
    "\n",
    "ocr = reader.readtext(threshold_image, allowlist='0123456789')\n",
    "ocr"
   ]
  },
  {
   "cell_type": "code",
   "execution_count": null,
   "id": "15543664",
   "metadata": {},
   "outputs": [],
   "source": [
    "import numpy as np\n",
    "#Define the lower and upper bounds for the white color\n",
    "# Since white is (255, 255, 255) in BGR, use a range close to it\n",
    "img = cv2.imread(red1)\n",
    "img = cv2.cvtColor(img, cv2.COLOR_BGR2GRAY)\n",
    "plt.imshow(img, cmap = 'gray', interpolation = 'bicubic')\n",
    "_, threshold_image = cv2.threshold(img, 140, 255, cv2.THRESH_BINARY)\n",
    "\n",
    "plt.imshow(threshold_image, cmap = 'gray', interpolation = 'bicubic')\n",
    "ocr = reader.readtext(threshold_image, allowlist='0123456789')\n",
    "ocr"
   ]
  },
  {
   "cell_type": "code",
   "execution_count": null,
   "id": "bcb18a66",
   "metadata": {},
   "outputs": [],
   "source": [
    "img = cv2.imread(test_image)\n",
    "plt.imshow(img, cmap = 'gray', interpolation = 'bicubic')\n",
    "roi = img[770:824, 1100:1335]\n",
    "plt.imshow(roi, cmap = 'gray', interpolation = 'bicubic')\n",
    "ocr_results = reader.readtext(roi)\n",
    "ocr_results[0][1].replace(\" \", \"\")"
   ]
  },
  {
   "cell_type": "code",
   "execution_count": null,
   "id": "070babc2",
   "metadata": {},
   "outputs": [],
   "source": [
    "png_compression_level = 0\n",
    "dir_path = '/home/jessica/reading-kiln-termostat/data/frames/04-09-2023'\n",
    "p = sorted(pathlib.Path(dir_path).glob('**/*'), key=os.path.getmtime)\n",
    "save_path = '/home/jessica/reading-kiln-termostat/data/frames/crop_test/'\n",
    "if not os.path.exists(save_path):\n",
    "    os.makedirs(save_path)\n",
    "files = [str(f) for f in p if f.is_file()]\n",
    "files\n",
    "index = files.index('/home/jessica/reading-kiln-termostat/data/frames/04-09-2023/14_240.png')\n",
    "for f in files[index:]:\n",
    "    crop = cv2.imread(f)\n",
    "    datetime_results = reader.readtext(f)\n",
    "    texts = list(map(list, zip(*datetime_results)))[1]\n",
    "    date = [text for text in texts if '-' in text][0]\n",
    "    time = [text for text in texts if ':' in text][0]\n",
    "    \n",
    "    crop = cv2.imread(f)[770:824, 1050:1285]\n",
    "    predicted_number = reader.readtext(white_mask(crop), allowlist='0123456789', paragraph = True)[0][1].replace(\" \", \"\") \n",
    "    \n",
    "    file_name = save_path + date + '_' + time + '_' + predicted_number + '.png'\n",
    "\n",
    "    r = cv2.imwrite(file_name, crop), [int(cv2.IMWRITE_PNG_COMPRESSION), png_compression_level]"
   ]
  },
  {
   "cell_type": "code",
   "execution_count": null,
   "id": "d0084008",
   "metadata": {},
   "outputs": [],
   "source": [
    "p = sorted(pathlib.Path(dir_path).glob('**/*'), key=os.path.getmtime)\n",
    "files = [str(f) for f in p if f.is_file()]\n",
    "signal = []\n",
    "for f in files:\n",
    "    pattern = r\"([^_]+)\"\n",
    "    matches = re.findall(pattern, filename)\n",
    "    date = matches[0]\n",
    "    time = matches[1]\n",
    "    temp = int(matches[2])"
   ]
  },
  {
   "cell_type": "code",
   "execution_count": null,
   "id": "381a9e1f",
   "metadata": {},
   "outputs": [],
   "source": [
    "ocr_results = reader.readtext(test_image)\n",
    "for (bbox, text, prob) in ocr_results:\n",
    "    print(f'Text: {text}, Probability: {prob}')"
   ]
  },
  {
   "cell_type": "code",
   "execution_count": null,
   "id": "580db950",
   "metadata": {},
   "outputs": [],
   "source": []
  }
 ],
 "metadata": {
  "kernelspec": {
   "display_name": "Python 3 (ipykernel)",
   "language": "python",
   "name": "python3"
  },
  "language_info": {
   "codemirror_mode": {
    "name": "ipython",
    "version": 3
   },
   "file_extension": ".py",
   "mimetype": "text/x-python",
   "name": "python",
   "nbconvert_exporter": "python",
   "pygments_lexer": "ipython3",
   "version": "3.10.12"
  }
 },
 "nbformat": 4,
 "nbformat_minor": 5
}
