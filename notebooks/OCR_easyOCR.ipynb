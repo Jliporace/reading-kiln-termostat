{
 "cells": [
  {
   "cell_type": "code",
   "execution_count": null,
   "id": "231e7906",
   "metadata": {},
   "outputs": [],
   "source": [
    "OCR utilizando Easy OCR"
   ]
  },
  {
   "cell_type": "code",
   "execution_count": 1,
   "id": "0ec26275",
   "metadata": {},
   "outputs": [
    {
     "name": "stderr",
     "output_type": "stream",
     "text": [
      "Neither CUDA nor MPS are available - defaulting to CPU. Note: This module is much faster with a GPU.\n"
     ]
    }
   ],
   "source": [
    "import easyocr\n",
    "reader = easyocr.Reader(['en'])\n"
   ]
  },
  {
   "cell_type": "code",
   "execution_count": null,
   "id": "5a807730",
   "metadata": {},
   "outputs": [],
   "source": [
    "plt.plot(test_c"
   ]
  },
  {
   "cell_type": "code",
   "execution_count": 9,
   "id": "d6bffd8a",
   "metadata": {},
   "outputs": [],
   "source": [
    "night = \"/home/jessica/Pictures/Screenshots/whole-picture-night.png\"\n",
    "test_pb = \"/home/jessica/reading-kiln-termostat/notebooks/kiln-images/color-images/12_4000.jpg\"\n",
    "numbers = \"/home/jessica/Pictures/Screenshots/framed-picture-day.png\""
   ]
  },
  {
   "cell_type": "code",
   "execution_count": 10,
   "id": "070babc2",
   "metadata": {},
   "outputs": [
    {
     "data": {
      "text/plain": [
       "[([[324, 330], [416, 330], [416, 380], [324, 380]], '720', 0.7052360710381329),\n",
       " ([[328, 381], [400, 381], [400, 424], [328, 424]],\n",
       "  '18 &',\n",
       "  0.46496519446372986),\n",
       " ([[144, 428], [270, 428], [270, 482], [144, 482]],\n",
       "  'STEcNo',\n",
       "  0.5214945202453963),\n",
       " ([[501, 467], [553, 467], [553, 503], [501, 503]], 'SS', 0.9341475138201231)]"
      ]
     },
     "execution_count": 10,
     "metadata": {},
     "output_type": "execute_result"
    }
   ],
   "source": [
    "result = reader.readtext(night)\n",
    "result"
   ]
  },
  {
   "cell_type": "code",
   "execution_count": 12,
   "id": "381a9e1f",
   "metadata": {},
   "outputs": [
    {
     "name": "stdout",
     "output_type": "stream",
     "text": [
      "Text: 602, Probability: 0.9333514596099167\n",
      "Text: 682, Probability: 0.9922423146038635\n"
     ]
    }
   ],
   "source": [
    "for (bbox, text, prob) in result:\n",
    "    print(f'Text: {text}, Probability: {prob}')"
   ]
  },
  {
   "cell_type": "code",
   "execution_count": null,
   "id": "293d447b",
   "metadata": {},
   "outputs": [],
   "source": []
  }
 ],
 "metadata": {
  "kernelspec": {
   "display_name": "Python 3 (ipykernel)",
   "language": "python",
   "name": "python3"
  },
  "language_info": {
   "codemirror_mode": {
    "name": "ipython",
    "version": 3
   },
   "file_extension": ".py",
   "mimetype": "text/x-python",
   "name": "python",
   "nbconvert_exporter": "python",
   "pygments_lexer": "ipython3",
   "version": "3.10.12"
  }
 },
 "nbformat": 4,
 "nbformat_minor": 5
}
