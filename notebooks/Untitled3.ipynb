{
 "cells": [
  {
   "cell_type": "code",
   "execution_count": 1,
   "id": "64b959d0",
   "metadata": {},
   "outputs": [
    {
     "name": "stderr",
     "output_type": "stream",
     "text": [
      "/tmp/ipykernel_18770/1633744439.py:1: DeprecationWarning: \n",
      "Pyarrow will become a required dependency of pandas in the next major release of pandas (pandas 3.0),\n",
      "(to allow more performant data types, such as the Arrow string type, and better interoperability with other libraries)\n",
      "but was not found to be installed on your system.\n",
      "If this would cause problems for you,\n",
      "please provide us feedback at https://github.com/pandas-dev/pandas/issues/54466\n",
      "        \n",
      "  import pandas as pd\n"
     ]
    }
   ],
   "source": [
    "import pandas as pd\n",
    "\n",
    "ocr = pd.read_csv('/home/jessica/reading-kiln-termostat/data/recordings/test_results/project-ocr/test-results.csv')\n",
    "digits = pd.read_csv('/home/jessica/reading-kiln-termostat/data/recordings/test_results/project-digits/test-results.csv')"
   ]
  },
  {
   "cell_type": "code",
   "execution_count": 13,
   "id": "1950895d",
   "metadata": {},
   "outputs": [],
   "source": [
    "digits['ac_ocr'] = digits['ac_ocr'].apply(lambda x: round(x, 2))\n",
    "digits['acr_previsao'] = digits['acr_previsao'].apply(lambda x: round(x, 2))\n",
    "digits['erro_energia'] = digits['erro_energia'].apply(lambda x: round(x, 2))"
   ]
  },
  {
   "cell_type": "code",
   "execution_count": 16,
   "id": "ae8b197e",
   "metadata": {},
   "outputs": [],
   "source": [
    "digits.drop(columns = ['teste'], inplace = True)\n",
    "ocr.drop(columns = ['teste'], inplace = True)"
   ]
  },
  {
   "cell_type": "code",
   "execution_count": 22,
   "id": "3d68d183",
   "metadata": {},
   "outputs": [],
   "source": [
    "ocr['erro_energia_mod'] = ocr['erro_energia'].apply(lambda x: abs(x))\n",
    "digits['erro_energia_mod'] = digits['erro_energia'].apply(lambda x: abs(x))"
   ]
  },
  {
   "cell_type": "code",
   "execution_count": 29,
   "id": "01119a65",
   "metadata": {},
   "outputs": [
    {
     "data": {
      "text/plain": [
       "ac_ocr                0.402857\n",
       "acr_previsao          0.817143\n",
       "erro_energia        131.100000\n",
       "erro_energia_mod    483.100000\n",
       "dtype: float64"
      ]
     },
     "execution_count": 29,
     "metadata": {},
     "output_type": "execute_result"
    }
   ],
   "source": [
    "ocr.mean()"
   ]
  },
  {
   "cell_type": "code",
   "execution_count": 27,
   "id": "a0e26dba",
   "metadata": {},
   "outputs": [
    {
     "data": {
      "text/plain": [
       "ac_ocr                0.504286\n",
       "acr_previsao          0.781429\n",
       "erro_energia        429.000000\n",
       "erro_energia_mod    490.885714\n",
       "dtype: float64"
      ]
     },
     "execution_count": 27,
     "metadata": {},
     "output_type": "execute_result"
    }
   ],
   "source": [
    "digits.drop(columns = 'nome').mean()"
   ]
  },
  {
   "cell_type": "code",
   "execution_count": null,
   "id": "1c703461",
   "metadata": {},
   "outputs": [],
   "source": []
  }
 ],
 "metadata": {
  "kernelspec": {
   "display_name": "Python 3 (ipykernel)",
   "language": "python",
   "name": "python3"
  },
  "language_info": {
   "codemirror_mode": {
    "name": "ipython",
    "version": 3
   },
   "file_extension": ".py",
   "mimetype": "text/x-python",
   "name": "python",
   "nbconvert_exporter": "python",
   "pygments_lexer": "ipython3",
   "version": "3.10.12"
  }
 },
 "nbformat": 4,
 "nbformat_minor": 5
}
