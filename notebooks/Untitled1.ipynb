{
 "cells": [
  {
   "cell_type": "code",
   "execution_count": 7,
   "id": "f1c92dd9",
   "metadata": {},
   "outputs": [
    {
     "name": "stderr",
     "output_type": "stream",
     "text": [
      "Neither CUDA nor MPS are available - defaulting to CPU. Note: This module is much faster with a GPU.\n"
     ]
    }
   ],
   "source": [
    "import easyocr\n",
    "import sys\n",
    "reader = easyocr.Reader(['en'])\n",
    "sys.path.append('/home/jessica/reading-kiln-termostat/src')\n",
    "from pathlib import Path\n",
    "\n",
    "import cv2 \n",
    "import os\n",
    "import pathlib\n",
    "import matplotlib.pyplot as plt \n",
    "import numpy as np\n",
    "import InputReader\n",
    "import PreProcesser\n",
    "import CurveCreator\n",
    "import RecognizeSegments\n",
    "import ssocr\n",
    "import pandas as pd\n",
    "import pytesseract\n",
    "\n",
    "input_reader = InputReader.InputReader()\n",
    "prep = PreProcesser.PreProcesser()\n",
    "rec_seg = RecognizeSegments.RecognizeSegments()"
   ]
  },
  {
   "cell_type": "code",
   "execution_count": 26,
   "id": "63c50b4e",
   "metadata": {},
   "outputs": [
    {
     "name": "stdout",
     "output_type": "stream",
     "text": [
      "0.3.10\n"
     ]
    }
   ],
   "source": [
    "print(pytesseract.__version__)"
   ]
  },
  {
   "cell_type": "code",
   "execution_count": null,
   "id": "05970bf6",
   "metadata": {},
   "outputs": [],
   "source": [
    "return image_to_string(otsu_thresh_image, lang=\"letsgodigital\", config=\"-psm 100 -c tessedit_char_whitelist=.0123456789\")"
   ]
  },
  {
   "cell_type": "code",
   "execution_count": 14,
   "id": "c32f8465",
   "metadata": {},
   "outputs": [],
   "source": [
    "image = cv2.imread('/home/jessica/reading-kiln-termostat/data/recordings/test_results/digit_recon/10-10-2023-esmalte/prediction_frames/2023-10-10_16:49:25_1191_0.png')\n",
    "# rec_seg.pipeline(image, 'output.png')"
   ]
  },
  {
   "cell_type": "code",
   "execution_count": 29,
   "id": "fb7d2a01",
   "metadata": {},
   "outputs": [
    {
     "data": {
      "text/plain": [
       "'\\x0c'"
      ]
     },
     "execution_count": 29,
     "metadata": {},
     "output_type": "execute_result"
    }
   ],
   "source": [
    "pytesseract.image_to_string(image, config= \"--oem 1 -c tessedit_char_whitelist=0123456789 --psm 6 \")"
   ]
  },
  {
   "cell_type": "code",
   "execution_count": 4,
   "id": "dfd12d33",
   "metadata": {},
   "outputs": [
    {
     "name": "stderr",
     "output_type": "stream",
     "text": [
      "Neither CUDA nor MPS are available - defaulting to CPU. Note: This module is much faster with a GPU.\n",
      "/tmp/ipykernel_14999/2142238866.py:13: FutureWarning: The behavior of DataFrame concatenation with empty or all-NA entries is deprecated. In a future version, this will no longer exclude empty or all-NA columns when determining the result dtypes. To retain the old behavior, exclude the relevant entries before the concat operation.\n",
      "  df = pd.concat([df, df_result], ignore_index=True)\n",
      "Neither CUDA nor MPS are available - defaulting to CPU. Note: This module is much faster with a GPU.\n"
     ]
    },
    {
     "name": "stdout",
     "output_type": "stream",
     "text": [
      "[1158, 1159, 1160, 1161, 1162, 1162, 1163, 1164, 1164, 1165, 1166, 1167, 1167, 1168, 1169, 1169, 1170, 1171, 1172, 1173, 1174, 1176, 1177, 1178, 1179, 1180, 1181, 1182, 1183, 1184, 1185, 1186, 1186, 1187, 1188, 1189, 1190, 1191, 1192, 1193, 1194, 1195, 1196, 1197, 1198, 1199, 1200, 1200, 1200, 1201, 1203, 1204, 1206, 1207, 1209, 1210, 1210, 1210, 1210, 1210, 1210, 1219, 1220, 1220, 1220, 1220, 1220, 1220, 1220, 1220, 1220, 1220, 1220, 1220, 1220, 1220, 1220, 1220, 1220, 1220, 1220, 1220]\n",
      "[1158, 1159, 1160, 1161, 1162, 1163, 1165, 1166, 1167, 1168, 1170, 1171, 1172, 1173, 1174, 1175, 1177, 1178, 1179, 1180, 1181, 1182, 1184, 1185, 1186, 1186, 1187, 1188, 1189, 1190, 1191, 1192, 1193, 1194, 1195, 1196, 1197, 1199, 1200, 1200, 1201, 1202, 1203, 1204, 1205, 1206, 1207, 1207, 1208, 1209, 1210, 1211, 1211, 1212, 1214, 1214, 1215, 1216, 1217, 1218, 1219, 1219, 1220, 1220, 1220, 1220, 1220, 1220, 1220, 1220, 1220, 1220, 1220, 1220, 1220, 1220, 1220, 1220, 1220, 1220, 1220, 1220]\n"
     ]
    },
    {
     "name": "stderr",
     "output_type": "stream",
     "text": [
      "Neither CUDA nor MPS are available - defaulting to CPU. Note: This module is much faster with a GPU.\n"
     ]
    },
    {
     "name": "stdout",
     "output_type": "stream",
     "text": [
      "[1160, 1161, 1162, 1162, 1163, 1164, 1165, 1166, 1166, 1168, 1169, 1170, 1171, 1171, 1173, 1174, 1175, 1175, 1176, 1177, 1178, 1179, 1180, 1181, 1182, 1182, 1183, 1184, 1185, 1186, 1186, 1186, 1188, 1189, 1189, 1190, 1191, 1192, 1192, 1193, 1194, 1195, 1195, 1196, 1196, 1198, 1198, 1199, 1200, 1200, 1201, 1202, 1202, 1203, 1204, 1204, 1205, 1206, 1206, 1207, 1207, 1208, 1208, 1208, 1209, 1209, 1209]\n",
      "[1160, 1161, 1162, 1162, 1163, 1164, 1165, 1166, 1167, 1168, 1169, 1170, 1171, 1172, 1173, 1174, 1175, 1175, 1176, 1177, 1178, 1179, 1180, 1181, 1182, 1182, 1183, 1184, 1185, 1186, 1186, 1187, 1188, 1189, 1189, 1190, 1191, 1192, 1192, 1193, 1194, 1195, 1195, 1196, 1197, 1198, 1198, 1199, 1200, 1200, 1201, 1202, 1202, 1203, 1204, 1204, 1205, 1206, 1206, 1207, 1207, 1208, 1208, 1208, 1209, 1209, 1209]\n"
     ]
    },
    {
     "name": "stderr",
     "output_type": "stream",
     "text": [
      "Neither CUDA nor MPS are available - defaulting to CPU. Note: This module is much faster with a GPU.\n"
     ]
    },
    {
     "name": "stdout",
     "output_type": "stream",
     "text": [
      "[1157, 1158, 1159, 1159, 1160, 1161, 1162, 1162, 1163, 1164, 1165, 1165, 1166, 1167, 1168, 1168, 1169, 1170, 1171, 1171, 1172, 1173, 1173, 1174, 1175, 1176, 1176, 1177, 1178, 1178, 1179, 1180, 1180, 1181, 1182, 1183, 1184, 1185, 1186, 1186, 1187, 1188, 1189, 1190, 1190, 1190, 1191, 1191, 1192, 1193, 1194, 1195, 1196, 1196, 1197, 1198, 1199, 1200, 1200, 1201, 1201, 1201, 1203, 1205, 1207, 1209, 1211, 1211, 1213, 1213, 1214, 1214, 1215, 1216, 1216, 1217, 1217, 1218, 1218, 1219, 1219, 1220, 1220, 1220, 1220, 1220, 1220, 1220, 1220, 1220, 1220]\n",
      "[1157, 1158, 1159, 1160, 1162, 1163, 1164, 1165, 1166, 1167, 1168, 1169, 1170, 1171, 1172, 1173, 1173, 1174, 1175, 1176, 1176, 1177, 1178, 1179, 1180, 1181, 1182, 1182, 1183, 1184, 1185, 1186, 1186, 1187, 1188, 1189, 1189, 1190, 1191, 1191, 1192, 1193, 1193, 1194, 1195, 1196, 1196, 1197, 1198, 1198, 1199, 0, 1200, 1201, 1202, 1202, 1203, 1204, 1205, 1206, 1207, 1207, 1208, 1209, 1210, 1210, 1211, 1212, 1213, 1213, 1214, 1214, 1215, 1216, 1216, 1217, 1217, 1218, 1218, 1219, 1219, 1220, 1220, 1220, 1220, 1220, 1220, 1220, 1220, 1220, 1220]\n"
     ]
    },
    {
     "name": "stderr",
     "output_type": "stream",
     "text": [
      "Neither CUDA nor MPS are available - defaulting to CPU. Note: This module is much faster with a GPU.\n"
     ]
    },
    {
     "name": "stdout",
     "output_type": "stream",
     "text": [
      "[1141, 1143, 1144, 1145, 1146, 1147, 1148, 1149, 1150, 1151, 1152, 1153, 1154, 1155, 1156, 1157, 1157, 1158, 1159, 1160, 1161, 1162, 1162, 1164, 1165, 1166, 1166, 1167, 1168, 1168, 1169, 1170, 1171, 1172, 1173, 1173, 1174, 1175, 1176, 1177, 1178, 1178, 1179, 1180, 1181, 1182, 1183, 1183, 1184, 1185, 1186, 1187, 1188, 1188, 1189, 1190, 1191, 1192, 1192, 1193, 1194, 1195, 1195, 1196, 1197, 1198, 1198, 1199, 1200, 1200, 1200, 1201, 1202, 1202, 1202, 1204, 1204, 1205, 1205, 1205, 1206, 1207, 1207, 1208, 1208, 1209, 1209, 1210, 1210, 1211, 1211, 1212, 1212, 1212, 1212, 1212, 1212]\n",
      "[1142, 1143, 1144, 1145, 1146, 1147, 1148, 1149, 1150, 1151, 1152, 1153, 1154, 1155, 1156, 1157, 1158, 1158, 1159, 1160, 1161, 1162, 1163, 1164, 1165, 1166, 1166, 1167, 1168, 1169, 1170, 1171, 1172, 1172, 1173, 1174, 1175, 1176, 1176, 1177, 1178, 1179, 1179, 1180, 1181, 1182, 1183, 1183, 1184, 1185, 1186, 1187, 1187, 1188, 1189, 1190, 1191, 1192, 1192, 1193, 1194, 1195, 1195, 1196, 1197, 1198, 1198, 1199, 1200, 1200, 1200, 1201, 1202, 1202, 1203, 1204, 1204, 1205, 1205, 1206, 1206, 1207, 1207, 1208, 1208, 1209, 1209, 1210, 1210, 1211, 1211, 1212, 1212, 1212, 1212, 1212, 1212]\n"
     ]
    },
    {
     "name": "stderr",
     "output_type": "stream",
     "text": [
      "Neither CUDA nor MPS are available - defaulting to CPU. Note: This module is much faster with a GPU.\n"
     ]
    },
    {
     "name": "stdout",
     "output_type": "stream",
     "text": [
      "[1160, 1162, 1163, 1164, 1164, 1165, 1166, 1166, 1168, 1168, 1169, 1170, 1171, 1172, 1172, 1173, 1174, 1175, 1175, 1177, 1177, 1178, 1179, 1179, 1180, 1181, 1182, 1182, 1183, 1184, 1184, 1185, 1188, 1188, 1188, 1188, 1189, 1190, 1190, 1191, 1191, 1192, 1193, 1194, 1194, 1194, 1196, 1197, 1197, 1198, 1199, 1199, 1200, 1201, 1201, 1202, 1202, 1202, 1204, 1204, 1205, 1205, 1206, 1206, 1206, 1207, 1207, 1208, 1209, 1209, 1210, 1210, 1210, 1211, 1211, 1212, 1212, 1212, 1212, 1212]\n",
      "[1161, 1162, 1163, 1164, 1164, 1165, 1166, 1167, 1168, 1168, 1169, 1170, 1170, 1171, 1172, 1173, 1174, 1175, 1176, 1177, 1177, 1178, 1179, 1179, 1180, 1181, 1182, 1182, 1183, 1184, 1184, 1185, 1186, 1186, 1187, 1188, 1189, 1190, 1190, 1191, 1191, 1192, 1193, 1194, 1194, 1195, 1196, 1197, 1197, 1198, 1199, 1199, 1200, 1201, 1201, 1202, 1202, 1203, 1204, 1204, 1205, 1205, 1206, 1206, 1206, 1207, 1208, 1208, 1209, 1209, 1210, 1210, 1210, 1211, 1211, 1212, 1212, 1212, 1212, 1212]\n"
     ]
    },
    {
     "name": "stderr",
     "output_type": "stream",
     "text": [
      "Neither CUDA nor MPS are available - defaulting to CPU. Note: This module is much faster with a GPU.\n"
     ]
    },
    {
     "name": "stdout",
     "output_type": "stream",
     "text": [
      "[1157, 1158, 1159, 1160, 1161, 1162, 1162, 1162, 1164, 1165, 1166, 1167, 1168, 1169, 1169, 1170, 1171, 1172, 1173, 1174, 1175, 1176, 1176, 1177, 1178, 1179, 1180, 1180, 1181, 1182, 1182, 1184, 1184, 1185, 1186, 1187, 1188, 1188, 1189, 1190, 1191, 1191, 1192, 1193, 1193, 1194, 1195, 1196, 1196, 1197, 1198, 1199, 1199, 1200, 1200, 1201, 1202, 1203, 1203, 1204, 1204, 1205, 1206, 1206, 1207, 1208, 1209, 1209, 1210, 1210, 1211, 1211, 1212, 1212, 1212, 1212, 1212]\n",
      "[1157, 1158, 1159, 1160, 1161, 1162, 1162, 1163, 1164, 1165, 1166, 1167, 1168, 1169, 1169, 1170, 1171, 1172, 1173, 1174, 1175, 1176, 1176, 1177, 1178, 1179, 1180, 1180, 1181, 1182, 1183, 1184, 1184, 1185, 1186, 1187, 1187, 1188, 1189, 1190, 1191, 1191, 1192, 1193, 1193, 1194, 1195, 1196, 1196, 1197, 1198, 1198, 1199, 1200, 1200, 1201, 1202, 1203, 1203, 1204, 1204, 1205, 1206, 1207, 1207, 1208, 1208, 1209, 1210, 1210, 1211, 1211, 1212, 1212, 1212, 1212, 1212]\n",
      "[1157, 1158, 1158, 1159, 1159, 1160, 1161, 1162, 1163, 1164, 1165, 1166, 1167, 1168, 1168, 1169, 1170, 1171, 1172, 1173, 1173, 1174, 1175, 1176, 1177, 1178, 1178, 1179, 1180, 1181, 1181, 1182, 1182, 1184, 1185, 1185, 1186, 1187, 1188, 1188, 1189, 1190, 1190, 1191, 1192, 1193, 1193, 1194, 1194, 1196, 1197, 1198, 1200, 1200, 1200, 1200, 1200, 1200, 1200, 1201, 1201, 1202, 1203, 1204, 1204, 1205, 1205, 1206, 1206, 1206, 1206, 1206]\n",
      "[1156, 1157, 1158, 1158, 1159, 1160, 1161, 1162, 1163, 1164, 1165, 1166, 1166, 1167, 1168, 1169, 1170, 1171, 1172, 1172, 1173, 1174, 1175, 1175, 1177, 1177, 1178, 1179, 1180, 1181, 1181, 1182, 1183, 1184, 1185, 1185, 1186, 1187, 1188, 1188, 1189, 1190, 1190, 1191, 1192, 1193, 1193, 1194, 1194, 1195, 1195, 1196, 1197, 1197, 1197, 1198, 1199, 1199, 1200, 1201, 1201, 1202, 1203, 1204, 1204, 1205, 1205, 1206, 1206, 1207, 1208, 1208]\n"
     ]
    },
    {
     "data": {
      "text/html": [
       "<div>\n",
       "<style scoped>\n",
       "    .dataframe tbody tr th:only-of-type {\n",
       "        vertical-align: middle;\n",
       "    }\n",
       "\n",
       "    .dataframe tbody tr th {\n",
       "        vertical-align: top;\n",
       "    }\n",
       "\n",
       "    .dataframe thead th {\n",
       "        text-align: right;\n",
       "    }\n",
       "</style>\n",
       "<table border=\"1\" class=\"dataframe\">\n",
       "  <thead>\n",
       "    <tr style=\"text-align: right;\">\n",
       "      <th></th>\n",
       "      <th>nome</th>\n",
       "      <th>teste</th>\n",
       "      <th>ac_ocr</th>\n",
       "      <th>acr_previsao</th>\n",
       "      <th>erro_energia</th>\n",
       "    </tr>\n",
       "  </thead>\n",
       "  <tbody>\n",
       "    <tr>\n",
       "      <th>0</th>\n",
       "      <td>29-08-2023-esmalte</td>\n",
       "      <td>digit_recon</td>\n",
       "      <td>0.560976</td>\n",
       "      <td>0.317073</td>\n",
       "      <td>11786.6</td>\n",
       "    </tr>\n",
       "    <tr>\n",
       "      <th>1</th>\n",
       "      <td>21-06-2024-esmalte</td>\n",
       "      <td>digit_recon</td>\n",
       "      <td>0.880597</td>\n",
       "      <td>0.940299</td>\n",
       "      <td>43.2</td>\n",
       "    </tr>\n",
       "    <tr>\n",
       "      <th>2</th>\n",
       "      <td>10-10-2023-esmalte</td>\n",
       "      <td>digit_recon</td>\n",
       "      <td>0.043956</td>\n",
       "      <td>0.296703</td>\n",
       "      <td>6076.5</td>\n",
       "    </tr>\n",
       "    <tr>\n",
       "      <th>3</th>\n",
       "      <td>04-04-2024-esmalte</td>\n",
       "      <td>digit_recon</td>\n",
       "      <td>0.546392</td>\n",
       "      <td>0.855670</td>\n",
       "      <td>33.0</td>\n",
       "    </tr>\n",
       "    <tr>\n",
       "      <th>4</th>\n",
       "      <td>16-04-2024-esmalte</td>\n",
       "      <td>digit_recon</td>\n",
       "      <td>0.762500</td>\n",
       "      <td>0.862500</td>\n",
       "      <td>8.7</td>\n",
       "    </tr>\n",
       "    <tr>\n",
       "      <th>5</th>\n",
       "      <td>01-08-2024-esmalte</td>\n",
       "      <td>digit_recon</td>\n",
       "      <td>0.467532</td>\n",
       "      <td>0.922078</td>\n",
       "      <td>-86.0</td>\n",
       "    </tr>\n",
       "    <tr>\n",
       "      <th>6</th>\n",
       "      <td>29-08-2024-esmalte</td>\n",
       "      <td>digit_recon</td>\n",
       "      <td>0.444444</td>\n",
       "      <td>0.708333</td>\n",
       "      <td>-470.1</td>\n",
       "    </tr>\n",
       "  </tbody>\n",
       "</table>\n",
       "</div>"
      ],
      "text/plain": [
       "                 nome        teste    ac_ocr  acr_previsao  erro_energia\n",
       "0  29-08-2023-esmalte  digit_recon  0.560976      0.317073       11786.6\n",
       "1  21-06-2024-esmalte  digit_recon  0.880597      0.940299          43.2\n",
       "2  10-10-2023-esmalte  digit_recon  0.043956      0.296703        6076.5\n",
       "3  04-04-2024-esmalte  digit_recon  0.546392      0.855670          33.0\n",
       "4  16-04-2024-esmalte  digit_recon  0.762500      0.862500           8.7\n",
       "5  01-08-2024-esmalte  digit_recon  0.467532      0.922078         -86.0\n",
       "6  29-08-2024-esmalte  digit_recon  0.444444      0.708333        -470.1"
      ]
     },
     "execution_count": 4,
     "metadata": {},
     "output_type": "execute_result"
    }
   ],
   "source": [
    "firings = ['29-08-2023-esmalte', '21-06-2024-esmalte',\n",
    "           '10-10-2023-esmalte', '04-04-2024-esmalte', '16-04-2024-esmalte',\n",
    "          '01-08-2024-esmalte', '29-08-2024-esmalte']\n",
    "\n",
    "initial_temps = [1158, 1160 , 1157, 1141, 1160, 1157, 1157]\n",
    "final_temps = [1220, 1209 , 1220, 1212, 1212, 1212, 1210]\n",
    "test_name = 'digit_recon'\n",
    "df = pd.DataFrame(columns = ['nome', 'teste', 'ac_ocr', 'acr_previsao', 'erro_energia'])\n",
    "for firing, initial_temp, final_temp in zip(firings, initial_temps, final_temps):\n",
    "    save_path = f'/home/jessica/reading-kiln-termostat/data/recordings/test_results/{test_name}'\n",
    "    curve_creator = CurveCreator.CurveCreator(firing, save_path, initial_temp, final_temp)\n",
    "    curve, df_result = curve_creator.create_curve(test_name, method = 'digits')\n",
    "    df = pd.concat([df, df_result], ignore_index=True)\n",
    "    \n",
    "df"
   ]
  },
  {
   "cell_type": "code",
   "execution_count": null,
   "id": "c66fcb18",
   "metadata": {},
   "outputs": [],
   "source": []
  }
 ],
 "metadata": {
  "kernelspec": {
   "display_name": "Python 3 (ipykernel)",
   "language": "python",
   "name": "python3"
  },
  "language_info": {
   "codemirror_mode": {
    "name": "ipython",
    "version": 3
   },
   "file_extension": ".py",
   "mimetype": "text/x-python",
   "name": "python",
   "nbconvert_exporter": "python",
   "pygments_lexer": "ipython3",
   "version": "3.10.12"
  }
 },
 "nbformat": 4,
 "nbformat_minor": 5
}
